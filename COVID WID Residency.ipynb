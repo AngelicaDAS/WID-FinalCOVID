{
 "cells": [
  {
   "cell_type": "code",
   "execution_count": 2,
   "metadata": {},
   "outputs": [
    {
     "data": {
      "text/html": [
       "<div>\n",
       "<style scoped>\n",
       "    .dataframe tbody tr th:only-of-type {\n",
       "        vertical-align: middle;\n",
       "    }\n",
       "\n",
       "    .dataframe tbody tr th {\n",
       "        vertical-align: top;\n",
       "    }\n",
       "\n",
       "    .dataframe thead th {\n",
       "        text-align: right;\n",
       "    }\n",
       "</style>\n",
       "<table border=\"1\" class=\"dataframe\">\n",
       "  <thead>\n",
       "    <tr style=\"text-align: right;\">\n",
       "      <th></th>\n",
       "      <th>daily_vaccinations</th>\n",
       "      <th>daily_cases</th>\n",
       "    </tr>\n",
       "  </thead>\n",
       "  <tbody>\n",
       "    <tr>\n",
       "      <th>0</th>\n",
       "      <td>710238</td>\n",
       "      <td>230347</td>\n",
       "    </tr>\n",
       "    <tr>\n",
       "      <th>1</th>\n",
       "      <td>747082</td>\n",
       "      <td>235696</td>\n",
       "    </tr>\n",
       "    <tr>\n",
       "      <th>2</th>\n",
       "      <td>798707</td>\n",
       "      <td>242734</td>\n",
       "    </tr>\n",
       "    <tr>\n",
       "      <th>3</th>\n",
       "      <td>811670</td>\n",
       "      <td>201663</td>\n",
       "    </tr>\n",
       "    <tr>\n",
       "      <th>4</th>\n",
       "      <td>824632</td>\n",
       "      <td>177767</td>\n",
       "    </tr>\n",
       "  </tbody>\n",
       "</table>\n",
       "</div>"
      ],
      "text/plain": [
       "   daily_vaccinations  daily_cases\n",
       "0              710238       230347\n",
       "1              747082       235696\n",
       "2              798707       242734\n",
       "3              811670       201663\n",
       "4              824632       177767"
      ]
     },
     "execution_count": 2,
     "metadata": {},
     "output_type": "execute_result"
    }
   ],
   "source": [
    "import pandas as pd\n",
    "import matplotlib.pyplot as plt\n",
    "import statsmodels.api as sm\n",
    "import numpy as np\n",
    "import math\n",
    "\n",
    "from sklearn.model_selection import train_test_split\n",
    "from sklearn.linear_model import LinearRegression\n",
    "from sklearn.metrics import mean_squared_error, r2_score, mean_absolute_error\n",
    "\n",
    "from scipy import stats\n",
    "from scipy.stats import kurtosis, skew\n",
    "\n",
    "%matplotlib inline\n",
    "\n",
    "df = pd.read_csv(r'C:\\Users\\Angerine\\Downloads\\WIDResidencyCOVIDNationalcount.csv')\n",
    "df.head()\n"
   ]
  },
  {
   "cell_type": "code",
   "execution_count": 3,
   "metadata": {},
   "outputs": [
    {
     "data": {
      "text/plain": [
       "daily_vaccinations    int64\n",
       "daily_cases           int64\n",
       "dtype: object"
      ]
     },
     "execution_count": 3,
     "metadata": {},
     "output_type": "execute_result"
    }
   ],
   "source": [
    "#checking data types -> change data types to proper types\n",
    "df.dtypes"
   ]
  },
  {
   "cell_type": "code",
   "execution_count": 130,
   "metadata": {},
   "outputs": [
    {
     "data": {
      "image/png": "[encoded data removed]",
      "text/plain": [
       "<Figure size 432x288 with 1 Axes>"
      ]
     },
     "metadata": {
      "needs_background": "light"
     },
     "output_type": "display_data"
    }
   ],
   "source": [
    "# assign x & y \n",
    "x = df['daily_vaccinations']\n",
    "y = df['daily_cases']\n",
    "\n",
    "# creating scatter plot\n",
    "plt.plot(x, y, 'o', color = 'gold', label = 'Vaccine Efficency Rates per Day')\n",
    "plt.title('Daily Vaccinations vs Daily Cases')\n",
    "plt.xlabel('Daily Vaccinations')\n",
    "plt.ylabel('Daily Cases')\n",
    "plt.legend()\n",
    "plt.show()"
   ]
  },
  {
   "cell_type": "code",
   "execution_count": 37,
   "metadata": {},
   "outputs": [
    {
     "data": {
      "text/html": [
       "<div>\n",
       "<style scoped>\n",
       "    .dataframe tbody tr th:only-of-type {\n",
       "        vertical-align: middle;\n",
       "    }\n",
       "\n",
       "    .dataframe tbody tr th {\n",
       "        vertical-align: top;\n",
       "    }\n",
       "\n",
       "    .dataframe thead th {\n",
       "        text-align: right;\n",
       "    }\n",
       "</style>\n",
       "<table border=\"1\" class=\"dataframe\">\n",
       "  <thead>\n",
       "    <tr style=\"text-align: right;\">\n",
       "      <th></th>\n",
       "      <th>daily_vaccinations</th>\n",
       "      <th>daily_cases</th>\n",
       "    </tr>\n",
       "  </thead>\n",
       "  <tbody>\n",
       "    <tr>\n",
       "      <th>daily_vaccinations</th>\n",
       "      <td>1.000000</td>\n",
       "      <td>-0.862203</td>\n",
       "    </tr>\n",
       "    <tr>\n",
       "      <th>daily_cases</th>\n",
       "      <td>-0.862203</td>\n",
       "      <td>1.000000</td>\n",
       "    </tr>\n",
       "  </tbody>\n",
       "</table>\n",
       "</div>"
      ],
      "text/plain": [
       "                    daily_vaccinations  daily_cases\n",
       "daily_vaccinations            1.000000    -0.862203\n",
       "daily_cases                  -0.862203     1.000000"
      ]
     },
     "execution_count": 37,
     "metadata": {},
     "output_type": "execute_result"
    }
   ],
   "source": [
    "# Measuring Correlation - Strong negative relationship \n",
    "df.corr()"
   ]
  },
  {
   "cell_type": "code",
   "execution_count": 136,
   "metadata": {},
   "outputs": [],
   "source": [
    "# Split the data \n",
    "X = df.drop('daily_cases', axis = 1)\n",
    "Y = df[['daily_cases']]\n",
    "\n",
    "#40% dedicated to testing an remainng 60% for training (chose this due to small sample size)\n",
    "X_train, X_test, y_train, y_test = train_test_split(X, Y, test_size = 0.40, random_state = 1)"
   ]
  },
  {
   "cell_type": "code",
   "execution_count": 118,
   "metadata": {},
   "outputs": [
    {
     "data": {
      "text/plain": [
       "LinearRegression(copy_X=True, fit_intercept=True, n_jobs=None, normalize=False)"
      ]
     },
     "execution_count": 118,
     "metadata": {},
     "output_type": "execute_result"
    }
   ],
   "source": [
    "# create linear regression model object\n",
    "regression_model = LinearRegression()\n",
    "# pass through the dataset\n",
    "regression_model.fit(X_train, y_train)"
   ]
  },
  {
   "cell_type": "code",
   "execution_count": 119,
   "metadata": {},
   "outputs": [
    {
     "name": "stdout",
     "output_type": "stream",
     "text": [
      "The coefficient for our model is -0.1\n",
      "The intercept for our model is 2.6e+05\n"
     ]
    }
   ],
   "source": [
    "# Grab coefficent of model & intercept\n",
    "intercept = regression_model.intercept_[0]\n",
    "coefficent = regression_model.coef_[0][0]\n",
    "\n",
    "print('The coefficient for our model is {:.2}'.format(coefficent))\n",
    "print('The intercept for our model is {:.2}'.format(intercept))"
   ]
  },
  {
   "cell_type": "code",
   "execution_count": 120,
   "metadata": {},
   "outputs": [
    {
     "name": "stdout",
     "output_type": "stream",
     "text": [
      "The predicted value is 180450.32\n"
     ]
    }
   ],
   "source": [
    "# Making a prediction  \n",
    "prediction = regression_model.predict([[824632]])\n",
    "predicted_value = prediction[0][0]\n",
    "print('The predicted value is {:.8}'.format(predicted_value))"
   ]
  },
  {
   "cell_type": "code",
   "execution_count": 121,
   "metadata": {},
   "outputs": [
    {
     "name": "stdout",
     "output_type": "stream",
     "text": [
      "The predicted value is 95772.631\n"
     ]
    }
   ],
   "source": [
    "# Making a prediction\n",
    "prediction = regression_model.predict([[1657703]])\n",
    "predicted_value = prediction[0][0]\n",
    "print('The predicted value is {:.8}'.format(predicted_value))"
   ]
  },
  {
   "cell_type": "code",
   "execution_count": 122,
   "metadata": {},
   "outputs": [
    {
     "data": {
      "text/plain": [
       "array([[126903.1056592 ],\n",
       "       [116067.42029405],\n",
       "       [ 52934.86276667],\n",
       "       [112886.6364312 ],\n",
       "       [ 17533.56068296]])"
      ]
     },
     "execution_count": 122,
     "metadata": {},
     "output_type": "execute_result"
    }
   ],
   "source": [
    "#Multiple predictions\n",
    "y_predict = regression_model.predict(X_test)\n",
    "y_predict[:5]"
   ]
  },
  {
   "cell_type": "code",
   "execution_count": 123,
   "metadata": {},
   "outputs": [],
   "source": [
    "#define our input\n",
    "X2 = sm.add_constant(X)\n",
    "\n",
    "#create OLS model\n",
    "model = sm.OLS(Y, X2)\n",
    "\n",
    "est = model.fit()"
   ]
  },
  {
   "cell_type": "code",
   "execution_count": 135,
   "metadata": {},
   "outputs": [
    {
     "data": {
      "text/html": [
       "<div>\n",
       "<style scoped>\n",
       "    .dataframe tbody tr th:only-of-type {\n",
       "        vertical-align: middle;\n",
       "    }\n",
       "\n",
       "    .dataframe tbody tr th {\n",
       "        vertical-align: top;\n",
       "    }\n",
       "\n",
       "    .dataframe thead th {\n",
       "        text-align: right;\n",
       "    }\n",
       "</style>\n",
       "<table border=\"1\" class=\"dataframe\">\n",
       "  <thead>\n",
       "    <tr style=\"text-align: right;\">\n",
       "      <th></th>\n",
       "      <th>0</th>\n",
       "      <th>1</th>\n",
       "    </tr>\n",
       "  </thead>\n",
       "  <tbody>\n",
       "    <tr>\n",
       "      <th>const</th>\n",
       "      <td>231786.526326</td>\n",
       "      <td>279081.612787</td>\n",
       "    </tr>\n",
       "    <tr>\n",
       "      <th>daily_vaccinations</th>\n",
       "      <td>-0.112835</td>\n",
       "      <td>-0.083328</td>\n",
       "    </tr>\n",
       "  </tbody>\n",
       "</table>\n",
       "</div>"
      ],
      "text/plain": [
       "                                0              1\n",
       "const               231786.526326  279081.612787\n",
       "daily_vaccinations      -0.112835      -0.083328"
      ]
     },
     "execution_count": 135,
     "metadata": {},
     "output_type": "execute_result"
    }
   ],
   "source": [
    "est.conf_int()"
   ]
  },
  {
   "cell_type": "code",
   "execution_count": 133,
   "metadata": {},
   "outputs": [
    {
     "data": {
      "text/plain": [
       "const                 2.865734e-30\n",
       "daily_vaccinations    1.127637e-19\n",
       "dtype: float64"
      ]
     },
     "execution_count": 133,
     "metadata": {},
     "output_type": "execute_result"
    }
   ],
   "source": [
    "est.pvalues\n",
    "# There is a relationship between daily vaccinations and daily cases \n",
    "# because coefficent does not equal 0"
   ]
  },
  {
   "cell_type": "code",
   "execution_count": 134,
   "metadata": {},
   "outputs": [
    {
     "name": "stdout",
     "output_type": "stream",
     "text": [
      "MSE 1013605348.48\n",
      "MAE 26535.611\n",
      "RMSE 31837.169\n"
     ]
    }
   ],
   "source": [
    "# Model Fit\n",
    "model_mse = mean_squared_error(y_test, y_predict)\n",
    "model_mae = mean_absolute_error(y_test, y_predict)\n",
    "model_rmse = math.sqrt(model_mse)\n",
    "\n",
    "#displaying output\n",
    "print(\"MSE {:.12}\".format(model_mse))\n",
    "print(\"MAE {:.8}\".format(model_mae))\n",
    "print(\"RMSE {:.8}\".format(model_rmse))"
   ]
  },
  {
   "cell_type": "code",
   "execution_count": 132,
   "metadata": {},
   "outputs": [
    {
     "name": "stdout",
     "output_type": "stream",
     "text": [
      "R2 0.5866277274310072\n"
     ]
    }
   ],
   "source": [
    "#R-Squared \n",
    "# What is says: our data explains 46% of the variance\n",
    "# We think that is good for the domain of the data we are working with\n",
    "# Hard to control all external factors (spread of COVID like population, rural vs city)\n",
    "\n",
    "model_r2 = r2_score(y_test, y_predict)\n",
    "print(\"R2 {:2}\".format(model_r2))"
   ]
  },
  {
   "cell_type": "code",
   "execution_count": 128,
   "metadata": {},
   "outputs": [
    {
     "name": "stdout",
     "output_type": "stream",
     "text": [
      "                            OLS Regression Results                            \n",
      "==============================================================================\n",
      "Dep. Variable:            daily_cases   R-squared:                       0.743\n",
      "Model:                            OLS   Adj. R-squared:                  0.739\n",
      "Method:                 Least Squares   F-statistic:                     176.7\n",
      "Date:                Wed, 14 Apr 2021   Prob (F-statistic):           1.13e-19\n",
      "Time:                        07:26:05   Log-Likelihood:                -732.47\n",
      "No. Observations:                  63   AIC:                             1469.\n",
      "Df Residuals:                      61   BIC:                             1473.\n",
      "Df Model:                           1                                         \n",
      "Covariance Type:            nonrobust                                         \n",
      "======================================================================================\n",
      "                         coef    std err          t      P>|t|      [0.025      0.975]\n",
      "--------------------------------------------------------------------------------------\n",
      "const               2.554e+05   1.18e+04     21.599      0.000    2.32e+05    2.79e+05\n",
      "daily_vaccinations    -0.0981      0.007    -13.294      0.000      -0.113      -0.083\n",
      "==============================================================================\n",
      "Omnibus:                        0.772   Durbin-Watson:                   0.343\n",
      "Prob(Omnibus):                  0.680   Jarque-Bera (JB):                0.812\n",
      "Skew:                           0.090   Prob(JB):                        0.666\n",
      "Kurtosis:                       2.474   Cond. No.                     5.46e+06\n",
      "==============================================================================\n",
      "\n",
      "Warnings:\n",
      "[1] Standard Errors assume that the covariance matrix of the errors is correctly specified.\n",
      "[2] The condition number is large, 5.46e+06. This might indicate that there are\n",
      "strong multicollinearity or other numerical problems.\n"
     ]
    }
   ],
   "source": [
    "# Print out summary\n",
    "print(est.summary())"
   ]
  },
  {
   "cell_type": "code",
   "execution_count": 131,
   "metadata": {
    "scrolled": true
   },
   "outputs": [
    {
     "data": {
      "image/png": "[encoded data removed]",
      "text/plain": [
       "<Figure size 432x288 with 1 Axes>"
      ]
     },
     "metadata": {
      "needs_background": "light"
     },
     "output_type": "display_data"
    }
   ],
   "source": [
    "#Plotting our line on graph\n",
    "\n",
    "plt.scatter(X_test, y_test, color = 'gainsboro', label = 'Daily Cases')\n",
    "plt.plot(X_test, y_predict, color = 'deepskyblue', linewidth = 3, linestyle = '-', label = 'Regression Line')\n",
    "\n",
    "plt.title(\"Linear Regression Model Daily Cases vs Daily Vaccinations\")\n",
    "plt.xlabel('Daily Vaccinations')\n",
    "plt.ylabel('Daily Cases')\n",
    "plt.legend()\n",
    "plt.show()"
   ]
  },
  {
   "cell_type": "code",
   "execution_count": null,
   "metadata": {},
   "outputs": [],
   "source": []
  },
  {
   "cell_type": "code",
   "execution_count": null,
   "metadata": {},
   "outputs": [],
   "source": []
  }
 ],
 "metadata": {
  "kernelspec": {
   "display_name": "Python 3",
   "language": "python",
   "name": "python3"
  },
  "language_info": {
   "codemirror_mode": {
    "name": "ipython",
    "version": 3
   },
   "file_extension": ".py",
   "mimetype": "text/x-python",
   "name": "python",
   "nbconvert_exporter": "python",
   "pygments_lexer": "ipython3",
   "version": "3.7.6"
  }
 },
 "nbformat": 4,
 "nbformat_minor": 4
}
